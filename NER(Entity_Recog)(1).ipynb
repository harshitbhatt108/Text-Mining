{
  "nbformat": 4,
  "nbformat_minor": 0,
  "metadata": {
    "colab": {
      "name": "NER(Entity Recog)",
      "provenance": [],
      "collapsed_sections": []
    },
    "kernelspec": {
      "name": "python3",
      "display_name": "Python 3"
    }
  },
  "cells": [
    {
      "cell_type": "code",
      "metadata": {
        "id": "daaRBp3QPr4O",
        "colab_type": "code",
        "colab": {}
      },
      "source": [
        "import spacy\n",
        "nlp = spacy.load('en')"
      ],
      "execution_count": 0,
      "outputs": []
    },
    {
      "cell_type": "code",
      "metadata": {
        "id": "cvQWDPHXPto-",
        "colab_type": "code",
        "outputId": "2c67b148-2e44-4c97-fdb5-bc6fd1d0b7e5",
        "colab": {
          "base_uri": "https://localhost:8080/",
          "height": 55
        }
      },
      "source": [
        "text = input(\"Please Enter the text\")"
      ],
      "execution_count": 0,
      "outputs": [
        {
          "output_type": "stream",
          "text": [
            "Please Enter the text Simplified Artificial Intelligence for Business.  Nimoy.ai is a suite of AI powered products to address business challenges in cost-effective manner at a scale for enterprises. ChatBot Studio  Nimoy suite's ChatBot studio is a \"develop to deploy\" package for an enterprise. ChatBot studio allows developers to build, train, and manage BOTs with simple steps. BOT studio is backed with Machine Learning & Comprehension models which augments. Chat Bots to reach true AI levels and make user conversations more intelligent. Bot Builder Bot Builder  To create, train & manage BOTs. Bot Publisher Bot Publisher  Middleware for channel. Channels Channels  In-App, Web & Facebook. ML Model Integration ML Model Integration  Process-intelligent conversation. API Integration API Integration  Stucture & un-Structure. Image Processing Image Processing  Image classification & Tagging. ML Studio  A User interface(UI) enabled Machine Learning platform for predictive analysis of Data. The Machine Learning Studio helps in automating core machine learning tasks involved in building data science use-cases for wide variety of industries. Auto ML Auto ML  The auto pilot mode lets you build machine learning pipelines for any kind of data in an enterprise. With minimum configuration, our Auto ML is easy and intuitive to implement. Custom ML Custom ML  The inbuilt studio gives you flexibility to customize the pipelines of your own if need arises such that timely interventions can be taken. Join us  We're a distinct crew of engineers and data scientists with one common belief of design cutting edge AI solutions. Data Scientist  We are looking for a Data Scientist with exceptional analytical and modelling skills to contribute to our Nimoy AI suite. Frontend Developer  We are looking for a ReactJS developer who can transform our product UI design and shape unique, user-centric products. Talk to us\n"
          ],
          "name": "stdout"
        }
      ]
    },
    {
      "cell_type": "code",
      "metadata": {
        "id": "VmM9DcK4P488",
        "colab_type": "code",
        "colab": {}
      },
      "source": [
        "wikitext = nlp(text)"
      ],
      "execution_count": 0,
      "outputs": []
    },
    {
      "cell_type": "code",
      "metadata": {
        "id": "DfsCUUeMPz8P",
        "colab_type": "code",
        "outputId": "c67209fc-8d7b-46e0-a6ac-006a8982198d",
        "colab": {
          "base_uri": "https://localhost:8080/",
          "height": 201
        }
      },
      "source": [
        "for word in wikitext.ents:\n",
        "  print(word.text, word.label)"
      ],
      "execution_count": 0,
      "outputs": [
        {
          "output_type": "stream",
          "text": [
            "Nimoy.ai 384\n",
            "Nimoy 383\n",
            "ChatBot 383\n",
            "Machine Learning & Comprehension 383\n",
            "Middleware 384\n",
            "Web & Facebook 383\n",
            "Machine Learning 385\n",
            "Data 383\n",
            "one 397\n",
            "Nimoy 383\n"
          ],
          "name": "stdout"
        }
      ]
    },
    {
      "cell_type": "code",
      "metadata": {
        "id": "I-ts4hNaQBvA",
        "colab_type": "code",
        "colab": {}
      },
      "source": [
        "spacy.explain('Nimoy.ai')"
      ],
      "execution_count": 0,
      "outputs": []
    },
    {
      "cell_type": "code",
      "metadata": {
        "id": "SbmQbiDrRBQY",
        "colab_type": "code",
        "colab": {}
      },
      "source": [
        "from spacy import displacy"
      ],
      "execution_count": 0,
      "outputs": []
    },
    {
      "cell_type": "code",
      "metadata": {
        "id": "OS4a6DoGRNCm",
        "colab_type": "code",
        "colab": {
          "base_uri": "https://localhost:8080/",
          "height": 402
        },
        "outputId": "aafef0ba-71b3-4cbc-e428-bb3f57c48ff1"
      },
      "source": [
        "displacy.render(wikitext, style=\"ent\", jupyter=True)"
      ],
      "execution_count": 15,
      "outputs": [
        {
          "output_type": "display_data",
          "data": {
            "text/html": [
              "<span class=\"tex2jax_ignore\"><div class=\"entities\" style=\"line-height: 2.5; direction: ltr\"> Simplified Artificial Intelligence for Business.  \n",
              "<mark class=\"entity\" style=\"background: #feca74; padding: 0.45em 0.6em; margin: 0 0.25em; line-height: 1; border-radius: 0.35em;\">\n",
              "    Nimoy.ai\n",
              "    <span style=\"font-size: 0.8em; font-weight: bold; line-height: 1; border-radius: 0.35em; text-transform: uppercase; vertical-align: middle; margin-left: 0.5rem\">GPE</span>\n",
              "</mark>\n",
              " is a suite of AI powered products to address business challenges in cost-effective manner at a scale for enterprises. ChatBot Studio  \n",
              "<mark class=\"entity\" style=\"background: #7aecec; padding: 0.45em 0.6em; margin: 0 0.25em; line-height: 1; border-radius: 0.35em;\">\n",
              "    Nimoy\n",
              "    <span style=\"font-size: 0.8em; font-weight: bold; line-height: 1; border-radius: 0.35em; text-transform: uppercase; vertical-align: middle; margin-left: 0.5rem\">ORG</span>\n",
              "</mark>\n",
              " suite's ChatBot studio is a &quot;develop to deploy&quot; package for an enterprise. \n",
              "<mark class=\"entity\" style=\"background: #7aecec; padding: 0.45em 0.6em; margin: 0 0.25em; line-height: 1; border-radius: 0.35em;\">\n",
              "    ChatBot\n",
              "    <span style=\"font-size: 0.8em; font-weight: bold; line-height: 1; border-radius: 0.35em; text-transform: uppercase; vertical-align: middle; margin-left: 0.5rem\">ORG</span>\n",
              "</mark>\n",
              " studio allows developers to build, train, and manage BOTs with simple steps. BOT studio is backed with \n",
              "<mark class=\"entity\" style=\"background: #7aecec; padding: 0.45em 0.6em; margin: 0 0.25em; line-height: 1; border-radius: 0.35em;\">\n",
              "    Machine Learning &amp; Comprehension\n",
              "    <span style=\"font-size: 0.8em; font-weight: bold; line-height: 1; border-radius: 0.35em; text-transform: uppercase; vertical-align: middle; margin-left: 0.5rem\">ORG</span>\n",
              "</mark>\n",
              " models which augments. Chat Bots to reach true AI levels and make user conversations more intelligent. Bot Builder Bot Builder  To create, train &amp; manage BOTs. Bot Publisher Bot Publisher  \n",
              "<mark class=\"entity\" style=\"background: #feca74; padding: 0.45em 0.6em; margin: 0 0.25em; line-height: 1; border-radius: 0.35em;\">\n",
              "    Middleware\n",
              "    <span style=\"font-size: 0.8em; font-weight: bold; line-height: 1; border-radius: 0.35em; text-transform: uppercase; vertical-align: middle; margin-left: 0.5rem\">GPE</span>\n",
              "</mark>\n",
              " for channel. Channels Channels  In-App, \n",
              "<mark class=\"entity\" style=\"background: #7aecec; padding: 0.45em 0.6em; margin: 0 0.25em; line-height: 1; border-radius: 0.35em;\">\n",
              "    Web &amp; Facebook\n",
              "    <span style=\"font-size: 0.8em; font-weight: bold; line-height: 1; border-radius: 0.35em; text-transform: uppercase; vertical-align: middle; margin-left: 0.5rem\">ORG</span>\n",
              "</mark>\n",
              ". ML Model Integration ML Model Integration  Process-intelligent conversation. API Integration API Integration  Stucture &amp; un-Structure. Image Processing Image Processing  Image classification &amp; Tagging. ML Studio  A User interface(UI) enabled \n",
              "<mark class=\"entity\" style=\"background: #ff9561; padding: 0.45em 0.6em; margin: 0 0.25em; line-height: 1; border-radius: 0.35em;\">\n",
              "    Machine Learning\n",
              "    <span style=\"font-size: 0.8em; font-weight: bold; line-height: 1; border-radius: 0.35em; text-transform: uppercase; vertical-align: middle; margin-left: 0.5rem\">LOC</span>\n",
              "</mark>\n",
              " platform for predictive analysis of \n",
              "<mark class=\"entity\" style=\"background: #7aecec; padding: 0.45em 0.6em; margin: 0 0.25em; line-height: 1; border-radius: 0.35em;\">\n",
              "    Data\n",
              "    <span style=\"font-size: 0.8em; font-weight: bold; line-height: 1; border-radius: 0.35em; text-transform: uppercase; vertical-align: middle; margin-left: 0.5rem\">ORG</span>\n",
              "</mark>\n",
              ". The Machine Learning Studio helps in automating core machine learning tasks involved in building data science use-cases for wide variety of industries. Auto ML Auto ML  The auto pilot mode lets you build machine learning pipelines for any kind of data in an enterprise. With minimum configuration, our Auto ML is easy and intuitive to implement. Custom ML Custom ML  The inbuilt studio gives you flexibility to customize the pipelines of your own if need arises such that timely interventions can be taken. Join us  We're a distinct crew of engineers and data scientists with \n",
              "<mark class=\"entity\" style=\"background: #e4e7d2; padding: 0.45em 0.6em; margin: 0 0.25em; line-height: 1; border-radius: 0.35em;\">\n",
              "    one\n",
              "    <span style=\"font-size: 0.8em; font-weight: bold; line-height: 1; border-radius: 0.35em; text-transform: uppercase; vertical-align: middle; margin-left: 0.5rem\">CARDINAL</span>\n",
              "</mark>\n",
              " common belief of design cutting edge AI solutions. Data Scientist  We are looking for a Data Scientist with exceptional analytical and modelling skills to contribute to our \n",
              "<mark class=\"entity\" style=\"background: #7aecec; padding: 0.45em 0.6em; margin: 0 0.25em; line-height: 1; border-radius: 0.35em;\">\n",
              "    Nimoy\n",
              "    <span style=\"font-size: 0.8em; font-weight: bold; line-height: 1; border-radius: 0.35em; text-transform: uppercase; vertical-align: middle; margin-left: 0.5rem\">ORG</span>\n",
              "</mark>\n",
              " AI suite. Frontend Developer  We are looking for a ReactJS developer who can transform our product UI design and shape unique, user-centric products. Talk to us</div></span>"
            ],
            "text/plain": [
              "<IPython.core.display.HTML object>"
            ]
          },
          "metadata": {
            "tags": []
          }
        }
      ]
    },
    {
      "cell_type": "code",
      "metadata": {
        "id": "V9LSai-qRc3W",
        "colab_type": "code",
        "colab": {}
      },
      "source": [
        "spacy.explain(\"Data\")"
      ],
      "execution_count": 0,
      "outputs": []
    },
    {
      "cell_type": "code",
      "metadata": {
        "id": "MA7FBTCKSUUs",
        "colab_type": "code",
        "colab": {}
      },
      "source": [
        ""
      ],
      "execution_count": 0,
      "outputs": []
    }
  ]
}