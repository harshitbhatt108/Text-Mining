{
  "nbformat": 4,
  "nbformat_minor": 0,
  "metadata": {
    "colab": {
      "name": "Text Mining.ipynb",
      "provenance": []
    },
    "kernelspec": {
      "name": "python3",
      "display_name": "Python 3"
    }
  },
  "cells": [
    {
      "cell_type": "code",
      "metadata": {
        "id": "hQfQsYbnHHjI",
        "colab_type": "code",
        "colab": {}
      },
      "source": [
        "from gensim.summarization import summarize\n",
        "from gensim.summarization import keywords\n",
        "from textblob import TextBlob\n",
        "import nltk"
      ],
      "execution_count": 0,
      "outputs": []
    },
    {
      "cell_type": "code",
      "metadata": {
        "id": "-aO3vNjYHQq_",
        "colab_type": "code",
        "colab": {
          "base_uri": "https://localhost:8080/",
          "height": 74
        },
        "outputId": "4a20e923-d44e-418a-ff2f-cf2d8d809ce0"
      },
      "source": [
        "text = input(\"Please Paste the Text here\")\n",
        "print(text)"
      ],
      "execution_count": 2,
      "outputs": [
        {
          "output_type": "stream",
          "text": [
            "Please Paste the TGxt hereNimoy suite's ChatBot studio is a \"develop to deploy\" package for an enterprise. ChatBot studio allows developers to build, train, and manage BOTs with simple steps. BOT studio is backed with Machine Learning & Comprehension models which augments. Chat Bots to reach true AI levels and make user conversations more intelligent. Bot Builder Bot Builder  To create, train & manage BOTs. Bot Publisher Bot Publisher  Middleware for channel. Channels Channels  In-App, Web & Facebook. ML Model Integration ML Model Integration  Process-intelligent conversation. API Integration API Integration  Stucture & un-Structure. Image Processing Image Processing  Image classification & Tagging. ML Studio  A User interface(UI) enabled Machine Learning platform for predictive analysis of Data. The Machine Learning Studio helps in automating core machine learning tasks involved in building data science use-cases for wide variety of industries. Auto ML Auto ML  The auto pilot mode lets you build machine learning pipelines for any kind of data in an enterprise. With minimum configuration, our Auto ML is easy and intuitive to implement. Custom ML Custom ML  The inbuilt studio gives you flexibility to customize the pipelines of your own if need arises such that timely interventions can be taken. Join us  We're a distinct crew of engineers and data scientists with one common belief of design cutting edge AI solutions. Data Scientist  We are looking for a Data Scientist with exceptional analytical and modelling skills to contribute to our Nimoy AI suite. Frontend Developer  We are looking for a ReactJS developer who can transform our product UI design and shape unique, user-centric products. Talk to us\n",
            "Nimoy suite's ChatBot studio is a \"develop to deploy\" package for an enterprise. ChatBot studio allows developers to build, train, and manage BOTs with simple steps. BOT studio is backed with Machine Learning & Comprehension models which augments. Chat Bots to reach true AI levels and make user conversations more intelligent. Bot Builder Bot Builder  To create, train & manage BOTs. Bot Publisher Bot Publisher  Middleware for channel. Channels Channels  In-App, Web & Facebook. ML Model Integration ML Model Integration  Process-intelligent conversation. API Integration API Integration  Stucture & un-Structure. Image Processing Image Processing  Image classification & Tagging. ML Studio  A User interface(UI) enabled Machine Learning platform for predictive analysis of Data. The Machine Learning Studio helps in automating core machine learning tasks involved in building data science use-cases for wide variety of industries. Auto ML Auto ML  The auto pilot mode lets you build machine learning pipelines for any kind of data in an enterprise. With minimum configuration, our Auto ML is easy and intuitive to implement. Custom ML Custom ML  The inbuilt studio gives you flexibility to customize the pipelines of your own if need arises such that timely interventions can be taken. Join us  We're a distinct crew of engineers and data scientists with one common belief of design cutting edge AI solutions. Data Scientist  We are looking for a Data Scientist with exceptional analytical and modelling skills to contribute to our Nimoy AI suite. Frontend Developer  We are looking for a ReactJS developer who can transform our product UI design and shape unique, user-centric products. Talk to us\n"
          ],
          "name": "stdout"
        }
      ]
    },
    {
      "cell_type": "code",
      "metadata": {
        "id": "0MAEUWTsHlo9",
        "colab_type": "code",
        "colab": {
          "base_uri": "https://localhost:8080/",
          "height": 35
        },
        "outputId": "295bcc0b-6704-4787-db17-da185b0ba7ed"
      },
      "source": [
        "#summarize the text\n",
        "print(summarize(text, word_count=10))"
      ],
      "execution_count": 3,
      "outputs": [
        {
          "output_type": "stream",
          "text": [
            "ChatBot studio allows developers to build, train, and manage BOTs with simple steps.\n"
          ],
          "name": "stdout"
        }
      ]
    },
    {
      "cell_type": "code",
      "metadata": {
        "id": "MKJQmr00IL12",
        "colab_type": "code",
        "colab": {
          "base_uri": "https://localhost:8080/",
          "height": 476
        },
        "outputId": "51bea8a4-23f7-4ac9-8710-fb26621c9809"
      },
      "source": [
        "#Print the keywords\n",
        "print(keywords(text))"
      ],
      "execution_count": 4,
      "outputs": [
        {
          "output_type": "stream",
          "text": [
            "studio\n",
            "bots\n",
            "bot\n",
            "learning\n",
            "data\n",
            "machine\n",
            "integration\n",
            "user conversations\n",
            "web\n",
            "cutting\n",
            "develop\n",
            "developers\n",
            "developer\n",
            "image\n",
            "models\n",
            "model\n",
            "modelling\n",
            "train\n",
            "build\n",
            "building\n",
            "auto\n",
            "process\n",
            "processing\n",
            "conversation\n",
            "pilot mode\n"
          ],
          "name": "stdout"
        }
      ]
    },
    {
      "cell_type": "code",
      "metadata": {
        "id": "Xkwj6KkpIQo6",
        "colab_type": "code",
        "colab": {
          "base_uri": "https://localhost:8080/",
          "height": 35
        },
        "outputId": "fc66aed8-a370-400c-b147-0e26d9e0a743"
      },
      "source": [
        "#crate a TEXTBLOB object\n",
        "obj = TextBlob(text)\n",
        "\n",
        "#Polarity and subjectivity define the sentiment and the expression of the text(+ve value means Goood Sentiment and -ve means negative)\n",
        "sentiment = obj.sentiment.polarity\n",
        "print(sentiment)"
      ],
      "execution_count": 8,
      "outputs": [
        {
          "output_type": "stream",
          "text": [
            "0.2589285714285714\n"
          ],
          "name": "stdout"
        }
      ]
    },
    {
      "cell_type": "code",
      "metadata": {
        "id": "DAtBqIfXIc78",
        "colab_type": "code",
        "colab": {
          "base_uri": "https://localhost:8080/",
          "height": 35
        },
        "outputId": "19c5015e-ebfc-49b8-881e-3dac6f68c790"
      },
      "source": [
        "if sentiment == 0:\n",
        "  print(\"The sentiment is Neutral\")\n",
        "elif sentiment > 0 :\n",
        "  print(\"The sentiment is positive\")\n",
        "else :\n",
        "   print(\"The sentiment is negative\")"
      ],
      "execution_count": 7,
      "outputs": [
        {
          "output_type": "stream",
          "text": [
            "The sentiment is positive\n"
          ],
          "name": "stdout"
        }
      ]
    },
    {
      "cell_type": "code",
      "metadata": {
        "id": "0Q1oMnDrIrfC",
        "colab_type": "code",
        "colab": {}
      },
      "source": [
        ""
      ],
      "execution_count": 0,
      "outputs": []
    }
  ]
}